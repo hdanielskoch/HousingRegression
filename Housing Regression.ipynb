{
 "cells": [
  {
   "cell_type": "markdown",
   "metadata": {},
   "source": [
    "Import necessary packages"
   ]
  },
  {
   "cell_type": "code",
   "execution_count": 3,
   "metadata": {
    "scrolled": true
   },
   "outputs": [],
   "source": [
    "import pandas as pd\n",
    "import numpy as np\n",
    "from scipy.stats import skew\n",
    "import matplotlib.pyplot as plt\n",
    "import xgboost as xgb\n",
    "from sklearn.model_selection import KFold, cross_val_score, GridSearchCV, train_test_split\n",
    "from sklearn.feature_selection import RFECV\n",
    "from sklearn.ensemble import RandomForestClassifier\n",
    "from sklearn.model_selection import GridSearchCV\n",
    "from sklearn.linear_model import Ridge, RidgeCV, ElasticNet, Lasso, LassoCV, LassoLarsCV\n",
    "from sklearn.model_selection import cross_val_score\n",
    "from sklearn.ensemble import RandomForestRegressor\n",
    "from sklearn.ensemble import GradientBoostingRegressor"
   ]
  },
  {
   "cell_type": "markdown",
   "metadata": {},
   "source": [
    "Read in training and test data as well as a sample submission. Display data."
   ]
  },
  {
   "cell_type": "code",
   "execution_count": 4,
   "metadata": {},
   "outputs": [
    {
     "data": {
      "text/html": [
       "<div>\n",
       "<style>\n",
       "    .dataframe thead tr:only-child th {\n",
       "        text-align: right;\n",
       "    }\n",
       "\n",
       "    .dataframe thead th {\n",
       "        text-align: left;\n",
       "    }\n",
       "\n",
       "    .dataframe tbody tr th {\n",
       "        vertical-align: top;\n",
       "    }\n",
       "</style>\n",
       "<table border=\"1\" class=\"dataframe\">\n",
       "  <thead>\n",
       "    <tr style=\"text-align: right;\">\n",
       "      <th></th>\n",
       "      <th>Id</th>\n",
       "      <th>MSSubClass</th>\n",
       "      <th>MSZoning</th>\n",
       "      <th>LotFrontage</th>\n",
       "      <th>LotArea</th>\n",
       "      <th>Street</th>\n",
       "      <th>Alley</th>\n",
       "      <th>LotShape</th>\n",
       "      <th>LandContour</th>\n",
       "      <th>Utilities</th>\n",
       "      <th>...</th>\n",
       "      <th>ScreenPorch</th>\n",
       "      <th>PoolArea</th>\n",
       "      <th>PoolQC</th>\n",
       "      <th>Fence</th>\n",
       "      <th>MiscFeature</th>\n",
       "      <th>MiscVal</th>\n",
       "      <th>MoSold</th>\n",
       "      <th>YrSold</th>\n",
       "      <th>SaleType</th>\n",
       "      <th>SaleCondition</th>\n",
       "    </tr>\n",
       "  </thead>\n",
       "  <tbody>\n",
       "    <tr>\n",
       "      <th>0</th>\n",
       "      <td>1461</td>\n",
       "      <td>20</td>\n",
       "      <td>RH</td>\n",
       "      <td>80.0</td>\n",
       "      <td>11622</td>\n",
       "      <td>Pave</td>\n",
       "      <td>NaN</td>\n",
       "      <td>Reg</td>\n",
       "      <td>Lvl</td>\n",
       "      <td>AllPub</td>\n",
       "      <td>...</td>\n",
       "      <td>120</td>\n",
       "      <td>0</td>\n",
       "      <td>NaN</td>\n",
       "      <td>MnPrv</td>\n",
       "      <td>NaN</td>\n",
       "      <td>0</td>\n",
       "      <td>6</td>\n",
       "      <td>2010</td>\n",
       "      <td>WD</td>\n",
       "      <td>Normal</td>\n",
       "    </tr>\n",
       "    <tr>\n",
       "      <th>1</th>\n",
       "      <td>1462</td>\n",
       "      <td>20</td>\n",
       "      <td>RL</td>\n",
       "      <td>81.0</td>\n",
       "      <td>14267</td>\n",
       "      <td>Pave</td>\n",
       "      <td>NaN</td>\n",
       "      <td>IR1</td>\n",
       "      <td>Lvl</td>\n",
       "      <td>AllPub</td>\n",
       "      <td>...</td>\n",
       "      <td>0</td>\n",
       "      <td>0</td>\n",
       "      <td>NaN</td>\n",
       "      <td>NaN</td>\n",
       "      <td>Gar2</td>\n",
       "      <td>12500</td>\n",
       "      <td>6</td>\n",
       "      <td>2010</td>\n",
       "      <td>WD</td>\n",
       "      <td>Normal</td>\n",
       "    </tr>\n",
       "    <tr>\n",
       "      <th>2</th>\n",
       "      <td>1463</td>\n",
       "      <td>60</td>\n",
       "      <td>RL</td>\n",
       "      <td>74.0</td>\n",
       "      <td>13830</td>\n",
       "      <td>Pave</td>\n",
       "      <td>NaN</td>\n",
       "      <td>IR1</td>\n",
       "      <td>Lvl</td>\n",
       "      <td>AllPub</td>\n",
       "      <td>...</td>\n",
       "      <td>0</td>\n",
       "      <td>0</td>\n",
       "      <td>NaN</td>\n",
       "      <td>MnPrv</td>\n",
       "      <td>NaN</td>\n",
       "      <td>0</td>\n",
       "      <td>3</td>\n",
       "      <td>2010</td>\n",
       "      <td>WD</td>\n",
       "      <td>Normal</td>\n",
       "    </tr>\n",
       "    <tr>\n",
       "      <th>3</th>\n",
       "      <td>1464</td>\n",
       "      <td>60</td>\n",
       "      <td>RL</td>\n",
       "      <td>78.0</td>\n",
       "      <td>9978</td>\n",
       "      <td>Pave</td>\n",
       "      <td>NaN</td>\n",
       "      <td>IR1</td>\n",
       "      <td>Lvl</td>\n",
       "      <td>AllPub</td>\n",
       "      <td>...</td>\n",
       "      <td>0</td>\n",
       "      <td>0</td>\n",
       "      <td>NaN</td>\n",
       "      <td>NaN</td>\n",
       "      <td>NaN</td>\n",
       "      <td>0</td>\n",
       "      <td>6</td>\n",
       "      <td>2010</td>\n",
       "      <td>WD</td>\n",
       "      <td>Normal</td>\n",
       "    </tr>\n",
       "    <tr>\n",
       "      <th>4</th>\n",
       "      <td>1465</td>\n",
       "      <td>120</td>\n",
       "      <td>RL</td>\n",
       "      <td>43.0</td>\n",
       "      <td>5005</td>\n",
       "      <td>Pave</td>\n",
       "      <td>NaN</td>\n",
       "      <td>IR1</td>\n",
       "      <td>HLS</td>\n",
       "      <td>AllPub</td>\n",
       "      <td>...</td>\n",
       "      <td>144</td>\n",
       "      <td>0</td>\n",
       "      <td>NaN</td>\n",
       "      <td>NaN</td>\n",
       "      <td>NaN</td>\n",
       "      <td>0</td>\n",
       "      <td>1</td>\n",
       "      <td>2010</td>\n",
       "      <td>WD</td>\n",
       "      <td>Normal</td>\n",
       "    </tr>\n",
       "  </tbody>\n",
       "</table>\n",
       "<p>5 rows × 80 columns</p>\n",
       "</div>"
      ],
      "text/plain": [
       "     Id  MSSubClass MSZoning  LotFrontage  LotArea Street Alley LotShape  \\\n",
       "0  1461          20       RH         80.0    11622   Pave   NaN      Reg   \n",
       "1  1462          20       RL         81.0    14267   Pave   NaN      IR1   \n",
       "2  1463          60       RL         74.0    13830   Pave   NaN      IR1   \n",
       "3  1464          60       RL         78.0     9978   Pave   NaN      IR1   \n",
       "4  1465         120       RL         43.0     5005   Pave   NaN      IR1   \n",
       "\n",
       "  LandContour Utilities      ...       ScreenPorch PoolArea PoolQC  Fence  \\\n",
       "0         Lvl    AllPub      ...               120        0    NaN  MnPrv   \n",
       "1         Lvl    AllPub      ...                 0        0    NaN    NaN   \n",
       "2         Lvl    AllPub      ...                 0        0    NaN  MnPrv   \n",
       "3         Lvl    AllPub      ...                 0        0    NaN    NaN   \n",
       "4         HLS    AllPub      ...               144        0    NaN    NaN   \n",
       "\n",
       "  MiscFeature MiscVal MoSold  YrSold  SaleType  SaleCondition  \n",
       "0         NaN       0      6    2010        WD         Normal  \n",
       "1        Gar2   12500      6    2010        WD         Normal  \n",
       "2         NaN       0      3    2010        WD         Normal  \n",
       "3         NaN       0      6    2010        WD         Normal  \n",
       "4         NaN       0      1    2010        WD         Normal  \n",
       "\n",
       "[5 rows x 80 columns]"
      ]
     },
     "execution_count": 4,
     "metadata": {},
     "output_type": "execute_result"
    }
   ],
   "source": [
    "train = pd.read_csv('train.csv')\n",
    "holdout = pd.read_csv('test.csv')\n",
    "samp_sub = pd.read_csv('sample_submission.csv')\n",
    "holdout.head()"
   ]
  },
  {
   "cell_type": "markdown",
   "metadata": {},
   "source": [
    "Define functions to handle missing data depending on the feature."
   ]
  },
  {
   "cell_type": "code",
   "execution_count": 5,
   "metadata": {
    "collapsed": true
   },
   "outputs": [],
   "source": [
    "#Replace na with mean\n",
    "def processMissingMean(df,columns):\n",
    "    \"Handle various missing values from the data set\"\n",
    "\n",
    "    df[columns] = df[columns].fillna(df[columns].mean())\n",
    "    return df\n",
    "\n",
    "#Replace na with mode\n",
    "def processMissingMode(df,columns):\n",
    "    \"Handle various missing values from the data set\"\n",
    "\n",
    "    df[columns] = df[columns].fillna(df[columns].mode().iloc[0])\n",
    "    return df\n",
    "\n",
    "#Replace na with mode\n",
    "def processMissingMedian(df,columns):\n",
    "    \"Handle various missing values from the data set\"\n",
    "\n",
    "    df[columns] = df[columns].fillna(df[columns].median())\n",
    "    return df\n",
    "\n",
    "#Delete columns\n",
    "def delete(df,columns):\n",
    "    df = df.drop(columns, axis=1)\n",
    "    return df\n",
    "\n",
    "#Replace NAN in columns with NA\n",
    "def processNA(df,columns):\n",
    "    df[columns] = df[columns].fillna('NA')\n",
    "    return df\n",
    "\n",
    "#Create dummy columns (one hot encoding) from a single column\n",
    "def create_dummies(df,column_name):\n",
    "    dummies = pd.get_dummies(df[column_name],prefix=column_name)\n",
    "    df = pd.concat([df,dummies],axis=1)\n",
    "    return df\n",
    "\n",
    "#Get a count of a particular attribute of certain feature\n",
    "def countOf(df,columns,compare):\n",
    "    numZero = 0\n",
    "    for i in df[columns]:\n",
    "        if i == compare:\n",
    "            numZero += 1\n",
    "    print(numZero, \"instances of\", compare)"
   ]
  },
  {
   "cell_type": "code",
   "execution_count": 6,
   "metadata": {
    "collapsed": true
   },
   "outputs": [],
   "source": [
    "#Concatenate training and test data in order to process it all at the same time. Leave out\n",
    "#the Id and the SalePrice.\n",
    "data = pd.concat((train.loc[:,'MSSubClass':'SaleCondition'],\n",
    "                      holdout.loc[:,'MSSubClass':'SaleCondition']))"
   ]
  },
  {
   "cell_type": "code",
   "execution_count": 7,
   "metadata": {
    "collapsed": true,
    "scrolled": false
   },
   "outputs": [],
   "source": [
    "#Delete features that have mostly missing data\n",
    "data.isnull().sum()\n",
    "data = delete(data,['PoolQC','Fence','MiscFeature','Alley'])"
   ]
  },
  {
   "cell_type": "code",
   "execution_count": 8,
   "metadata": {
    "collapsed": true
   },
   "outputs": [],
   "source": [
    "#Process all missing data\n",
    "data = processMissingMean(data,['LotFrontage','GarageYrBlt','GarageArea','BsmtFinSF1','BsmtFinSF2','BsmtUnfSF','TotalBsmtSF'])\n",
    "data = processMissingMode(data,['MasVnrType','Electrical','MSZoning','Utilities','Exterior1st','Exterior2nd','KitchenQual','Functional','SaleType'])\n",
    "data = processMissingMedian(data,['MasVnrArea','BsmtFullBath','BsmtHalfBath','GarageCars'])\n",
    "data = processNA(data,['BsmtQual','BsmtCond','BsmtExposure','BsmtFinType1','BsmtFinType2','FireplaceQu','GarageType','GarageFinish','GarageQual','GarageCond'])"
   ]
  },
  {
   "cell_type": "code",
   "execution_count": 9,
   "metadata": {
    "scrolled": true
   },
   "outputs": [
    {
     "data": {
      "text/plain": [
       "(2919, 285)"
      ]
     },
     "execution_count": 9,
     "metadata": {},
     "output_type": "execute_result"
    }
   ],
   "source": [
    "#Confirm all N/A entries have been filled. Get dummies for all data \n",
    "#as well as final number of features.\n",
    "data.isnull().sum().sum()\n",
    "data.shape\n",
    "data = pd.get_dummies(data)\n",
    "data.shape\n"
   ]
  },
  {
   "cell_type": "code",
   "execution_count": 10,
   "metadata": {},
   "outputs": [
    {
     "data": {
      "image/png": "[encoded data removed]",
      "text/plain": [
       "<matplotlib.figure.Figure at 0x1a09e28320>"
      ]
     },
     "metadata": {},
     "output_type": "display_data"
    }
   ],
   "source": [
    "#Visualize sale prices.\n",
    "plt.rcParams['figure.figsize'] = (12.0, 6.0)\n",
    "prices = pd.DataFrame({\"price\":train[\"SalePrice\"]})\n",
    "prices.hist()\n",
    "plt.show()"
   ]
  },
  {
   "cell_type": "markdown",
   "metadata": {},
   "source": [
    "Since the sale price is skewed to the left, we can take the log of the sale price data to try to normalize it."
   ]
  },
  {
   "cell_type": "code",
   "execution_count": 11,
   "metadata": {},
   "outputs": [
    {
     "data": {
      "image/png": "[encoded data removed]",
      "text/plain": [
       "<matplotlib.figure.Figure at 0x1a09e285c0>"
      ]
     },
     "metadata": {},
     "output_type": "display_data"
    }
   ],
   "source": [
    "#Visualize log of sale prices.\n",
    "plt.rcParams['figure.figsize'] = (12.0, 6.0)\n",
    "prices = pd.DataFrame({\"log(price + 1)\":np.log1p(train[\"SalePrice\"])})\n",
    "prices.hist()\n",
    "plt.show()"
   ]
  },
  {
   "cell_type": "code",
   "execution_count": 12,
   "metadata": {
    "collapsed": true
   },
   "outputs": [],
   "source": [
    "#This looks better. Let's take the log of the actual sale prices. \n",
    "#Remember to do this on the test set.\n",
    "train[\"SalePrice\"] = np.log1p(train[\"SalePrice\"])"
   ]
  },
  {
   "cell_type": "code",
   "execution_count": 13,
   "metadata": {},
   "outputs": [],
   "source": [
    "#If some of the numerical values are also skewed, we take the log of them as well.\n",
    "numeric_feats = data.dtypes[data.dtypes != \"object\"].index   \n",
    "skewed_feats = data[numeric_feats].apply(lambda x: skew(x.dropna())) #compute skewness\n",
    "skewed_feats = skewed_feats[skewed_feats > 0.75]\n",
    "\n",
    "skewed_feats = skewed_feats.index\n",
    "data[skewed_feats] = np.log1p(data[skewed_feats])"
   ]
  },
  {
   "cell_type": "code",
   "execution_count": 15,
   "metadata": {
    "collapsed": true
   },
   "outputs": [],
   "source": [
    "#Pulling train/test sets out from concatenated set with same training size.\n",
    "X_train = data[:train.shape[0]]\n",
    "X_test = data[train.shape[0]:]\n",
    "Y_train = train.SalePrice"
   ]
  },
  {
   "cell_type": "code",
   "execution_count": 16,
   "metadata": {},
   "outputs": [
    {
     "name": "stderr",
     "output_type": "stream",
     "text": [
      "/anaconda3/lib/python3.6/site-packages/sklearn/model_selection/_split.py:2026: FutureWarning: From version 0.21, test_size will always complement train_size unless both are specified.\n",
      "  FutureWarning)\n"
     ]
    }
   ],
   "source": [
    "#Extract training (x1) and cross validation set (x2) from original training set\n",
    "x1, x2, y1, y2 = train_test_split(X_train, Y_train, train_size=0.75, random_state=42)"
   ]
  },
  {
   "cell_type": "code",
   "execution_count": 17,
   "metadata": {
    "collapsed": true
   },
   "outputs": [],
   "source": [
    "#Since the number of features in this dataset was manageable, we did not need to use this function\n",
    "def select_features(df,exclude,yVal):\n",
    "    df = df.select_dtypes(include=['number'])\n",
    "    df = df.dropna(axis=1, how='any')\n",
    "    all_X = df.loc[:, df.columns != exclude]\n",
    "    all_X = all_X.loc[:, all_X.columns != yVal]\n",
    "    all_y = df[yVal]\n",
    "    rfc = RandomForestClassifier(random_state=1)\n",
    "    selector = RFECV(rfc,cv=10)\n",
    "    selector.fit(all_X,all_y)\n",
    "    optimized_columns = all_X.columns[selector.support_]\n",
    "    print(optimized_columns)\n",
    "    return optimized_columns"
   ]
  },
  {
   "cell_type": "code",
   "execution_count": 34,
   "metadata": {
    "collapsed": true
   },
   "outputs": [],
   "source": [
    "#Determine optimimal columns from training set and concatenate with SalePrice.\n",
    "#optCols = select_features(train,'Id','SalePrice')\n",
    "#trainOpt = pd.concat([train.loc[:,optCols], train.loc[:,'SalePrice']],axis = 1)\n",
    "#all_data = pd.concat((train.loc[:,'MSSubClass':'SaleCondition'],\n",
    "#                      test.loc[:,'MSSubClass':'SaleCondition']))"
   ]
  },
  {
   "cell_type": "code",
   "execution_count": 21,
   "metadata": {
    "collapsed": true
   },
   "outputs": [],
   "source": [
    "#Create a dictionary of models that are each stored as dictionaries. \n",
    "#Within each model are parameters that will then be tuned with a GridSeachCV.\n",
    "#Some of the parameter lists for random forest and gradient boosting have been paired down\n",
    "# because of long runtimes. However, these parameters were optimized.\n",
    "def select_model(all_X,all_y):\n",
    "    dictList = []\n",
    "\n",
    "    RD = {\"name\": \"Ridge\",\n",
    "          \"estimator\": Ridge(),\n",
    "          \"hyperparameters\": \n",
    "         {\n",
    "             \"alpha\" : [0.1, 1, 5, 10],\n",
    "             \"random_state\" : [1,2,10]\n",
    "         }\n",
    "    }\n",
    "    \n",
    "    LS = {\"name\": \"Lasso\",\n",
    "          \"estimator\": Lasso(),\n",
    "          \"hyperparameters\": \n",
    "         {\n",
    "             \"alpha\" : [0.001, 0.0005,0.0004],\n",
    "             \"random_state\" : [23]\n",
    "             \n",
    "         }\n",
    "    }\n",
    "    \n",
    "    EN = {\"name\": \"ElasticNet\",\n",
    "          \"estimator\": ElasticNet(),\n",
    "          \"hyperparameters\": \n",
    "         {\n",
    "             \"alpha\" : [0.0001,0.0003, 0.0005],\n",
    "             \"l1_ratio\" : [.1, .9, .99],\n",
    "             \"max_iter\" : [5000],\n",
    "             \"random_state\" : [3]\n",
    "         }\n",
    "    }\n",
    "    \n",
    "    RF = {\"name\": \"RandomForest\",\n",
    "          \"estimator\": RandomForestRegressor(),\n",
    "          \"hyperparameters\": \n",
    "         {\n",
    "             \"n_estimators\" : [3000],\n",
    "             \"random_state\" : [11]\n",
    "         }\n",
    "    }\n",
    "    \n",
    "    GRB = {\"name\": \"Gradient Boosting\",\n",
    "          \"estimator\": GradientBoostingRegressor(),\n",
    "          \"hyperparameters\": \n",
    "         {\n",
    "             \"n_estimators\" : [3000],\n",
    "             \"learning_rate\" : [0.05],\n",
    "             \"max_depth\" : [3],\n",
    "             \"max_features\" : ['sqrt'],\n",
    "             \"min_samples_leaf\" : [15],\n",
    "             'min_samples_split' : [10],\n",
    "             'loss' : ['huber'],\n",
    "             'random_state' : [5]\n",
    "         }\n",
    "    }\n",
    "    \n",
    "    XGB = {\"name\": \"XG Boosting\",\n",
    "          \"estimator\": xgb.XGBRegressor(),\n",
    "          \"hyperparameters\": \n",
    "         {\n",
    "             \"n_estimators\" : [100,360,1000],\n",
    "             \"max_depth\" : [2,6,10],\n",
    "             'learning_rate' : [0.01,0.1,1],\n",
    "             'seed' : [5,7,10]\n",
    "         }\n",
    "    }\n",
    "    \n",
    "    dictList = [RD,LS,EN,RF,GRB,XGB]\n",
    "    \n",
    "    for item in dictList:\n",
    "        print(item[\"name\"])\n",
    "        grid = GridSearchCV(item[\"estimator\"],param_grid=item[\"hyperparameters\"],cv=10)\n",
    "        grid.fit(all_X, all_y)\n",
    "        item[\"best_params\"] = grid.best_params_\n",
    "        item[\"best_score\"] = grid.best_score_\n",
    "        item[\"best_estimator\"] = grid.best_estimator_\n",
    "        print(grid.best_params_)\n",
    "        print(grid.best_score_)\n",
    "    \n",
    "    return dictList    "
   ]
  },
  {
   "cell_type": "code",
   "execution_count": 22,
   "metadata": {},
   "outputs": [
    {
     "name": "stdout",
     "output_type": "stream",
     "text": [
      "Ridge\n",
      "{'alpha': 5, 'random_state': 1}\n",
      "0.897989658735\n",
      "Lasso\n",
      "{'alpha': 0.0004, 'random_state': 23}\n",
      "0.903210150745\n",
      "ElasticNet\n",
      "{'alpha': 0.0003, 'l1_ratio': 0.9, 'max_iter': 5000, 'random_state': 3}\n",
      "0.90363208421\n",
      "RandomForest\n",
      "{'n_estimators': 3000, 'random_state': 11}\n",
      "0.875649416789\n",
      "Gradient Boosting\n",
      "{'learning_rate': 0.05, 'loss': 'huber', 'max_depth': 3, 'max_features': 'sqrt', 'min_samples_leaf': 15, 'min_samples_split': 10, 'n_estimators': 3000, 'random_state': 5}\n",
      "0.906108734445\n",
      "XG Boosting\n",
      "{'learning_rate': 0.1, 'max_depth': 2, 'n_estimators': 1000, 'seed': 5}\n",
      "0.905740092737\n"
     ]
    }
   ],
   "source": [
    "#Determine best parameters of each model and view scores of the model\n",
    "newDictList = select_model(X_train,Y_train)"
   ]
  },
  {
   "cell_type": "code",
   "execution_count": 23,
   "metadata": {},
   "outputs": [],
   "source": [
    "#We will not include the random forest model in our ensemble model because of its poor score\n",
    "del newDictList[3]"
   ]
  },
  {
   "cell_type": "code",
   "execution_count": 30,
   "metadata": {},
   "outputs": [
    {
     "data": {
      "text/plain": [
       "5"
      ]
     },
     "execution_count": 30,
     "metadata": {},
     "output_type": "execute_result"
    }
   ],
   "source": [
    "len(newDictList)"
   ]
  },
  {
   "cell_type": "code",
   "execution_count": 24,
   "metadata": {
    "collapsed": true
   },
   "outputs": [],
   "source": [
    "#Create ensemble model (average of each model) and make predictions\n",
    "def create_ensemble_pred(df,modelList):\n",
    "    Y_pred_list = []\n",
    "    for model in modelList:\n",
    "        Y_pred_list.append(model['best_estimator'].predict(df))\n",
    "    pred = sum(Y_pred_list) / len(Y_pred_list)\n",
    "    return pred"
   ]
  },
  {
   "cell_type": "code",
   "execution_count": 25,
   "metadata": {},
   "outputs": [
    {
     "data": {
      "text/plain": [
       "array([ 119822.50754544,  156681.9945336 ,  184892.52787982, ...,\n",
       "        165767.67959759,  117608.92389768,  222844.62165723])"
      ]
     },
     "execution_count": 25,
     "metadata": {},
     "output_type": "execute_result"
    }
   ],
   "source": [
    "pred = create_ensemble_pred(X_test,newDictList)\n",
    "Y_pred = np.exp(pred)\n",
    "Y_pred"
   ]
  },
  {
   "cell_type": "code",
   "execution_count": 26,
   "metadata": {
    "collapsed": true
   },
   "outputs": [],
   "source": [
    "#Save submissions file\n",
    "def save_submission_file(df,Y_pred):\n",
    "    submission = pd.DataFrame({\n",
    "        \"Id\": df[\"Id\"],\n",
    "        \"SalePrice\": Y_pred\n",
    "    })\n",
    "    submission.to_csv('submission.csv', index=False)"
   ]
  },
  {
   "cell_type": "code",
   "execution_count": 27,
   "metadata": {
    "collapsed": true
   },
   "outputs": [],
   "source": [
    "save_submission_file(holdout,Y_pred)"
   ]
  },
  {
   "cell_type": "code",
   "execution_count": 28,
   "metadata": {},
   "outputs": [
    {
     "data": {
      "text/plain": [
       "1459"
      ]
     },
     "execution_count": 28,
     "metadata": {},
     "output_type": "execute_result"
    }
   ],
   "source": [
    "#Check length of predictions\n",
    "len(Y_pred)"
   ]
  },
  {
   "cell_type": "code",
   "execution_count": null,
   "metadata": {
    "collapsed": true
   },
   "outputs": [],
   "source": []
  }
 ],
 "metadata": {
  "kernelspec": {
   "display_name": "Python 3",
   "language": "python",
   "name": "python3"
  },
  "language_info": {
   "codemirror_mode": {
    "name": "ipython",
    "version": 3
   },
   "file_extension": ".py",
   "mimetype": "text/x-python",
   "name": "python",
   "nbconvert_exporter": "python",
   "pygments_lexer": "ipython3",
   "version": "3.6.3"
  }
 },
 "nbformat": 4,
 "nbformat_minor": 2
}
